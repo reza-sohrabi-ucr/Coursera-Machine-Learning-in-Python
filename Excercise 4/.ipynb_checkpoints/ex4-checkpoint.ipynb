{
 "cells": [
  {
   "cell_type": "code",
   "execution_count": 34,
   "metadata": {
    "collapsed": true
   },
   "outputs": [],
   "source": [
    "import pandas as pd\n",
    "import numpy as np\n",
    "import matplotlib.pyplot as plt\n",
    "import scipy.io as sio\n",
    "from scipy.optimize import minimize\n",
    "test = sio.loadmat('test1.mat')\n",
    "X = test['X']\n",
    "y = test['y'].ravel()\n",
    "weights = sio.loadmat('test2.mat')\n",
    "theta1 = weights['Theta1']\n",
    "theta2 = weights['Theta2']\n",
    "import pdb"
   ]
  },
  {
   "cell_type": "markdown",
   "metadata": {},
   "source": [
    "# 1 Neural Networks"
   ]
  },
  {
   "cell_type": "code",
   "execution_count": 36,
   "metadata": {
    "collapsed": true
   },
   "outputs": [],
   "source": [
    "def sigmoid(x):\n",
    "    return 1 / (1 + np.exp(-x))\n",
    "\n",
    "\n",
    "def sigmoidGrad(x):\n",
    "    return sigmoid(x)*(1-sigmoid(x))"
   ]
  },
  {
   "cell_type": "markdown",
   "metadata": {},
   "source": [
    "# 2 Forward and Backward Propagation"
   ]
  },
  {
   "cell_type": "code",
   "execution_count": 36,
   "metadata": {
    "collapsed": true
   },
   "outputs": [],
   "source": [
    "def nnCostFunction(nn_params,\n",
    "                   input_layer_size,\n",
    "                   hidden_layer_size,\n",
    "                   num_labels,\n",
    "                   X, y, lamb):\n",
    "    m = len(y)\n",
    "    pdb.set_trace()\n",
    "    theta1 = np.reshape(nn_params[:hidden_layer_size * (input_layer_size + 1)],\n",
    "                        (hidden_layer_size, (input_layer_size + 1)))\n",
    "    theta2 = np.reshape(nn_params[hidden_layer_size * (input_layer_size + 1):],\n",
    "                        (num_labels, (hidden_layer_size + 1)))\n",
    "    z2 = theta1.dot(X.T)\n",
    "    # z2=np.concatenate((np.ones((1,z2.shape[1])),z2),0)\n",
    "    a2 = sigmoid(z2)\n",
    "    a2 = np.concatenate((np.ones((1, a2.shape[1])), a2), 0)\n",
    "    z3 = theta2.dot(a2)\n",
    "    a3 = sigmoid(z3)\n",
    "    posXMask = np.ravel_multi_index((y-1, np.arange(a3.shape[1])), a3.shape)\n",
    "    a_3 = a3.ravel().copy()\n",
    "    a__3 = a_3[np.ravel_multi_index((y-1, np.arange(a3.shape[1])), a3.shape)]\n",
    "    a_3[posXMask] = np.zeros((len(a__3),))\n",
    "    temp = np.zeros(a3.shape)\n",
    "    temp[np.unravel_index(posXMask, a3.shape)] = np.ones((len(posXMask,)))\n",
    "    del3 = a3-temp\n",
    "    del2 = theta2.T[1:, :].dot(del3)*sigmoidGrad(z2)\n",
    "    # del2=del2[:,1:]\n",
    "    # pdb.set_trace()\n",
    "    Del2 = 1./m*del3.dot(a2.T)\n",
    "    Del2[:, 1:] = Del2[:, 1:]+lamb/m*theta2[:, 1:]\n",
    "    Del1 = 1./m*del2.dot(X)\n",
    "    Del1[:, 1:] = Del1[:, 1:]+lamb/m*theta1[:, 1:]\n",
    "    return [-1./m*(np.sum(np.log(a__3))+np.sum(np.log(1-a_3))) \n",
    "            + lamb/2./m*(np.sum(theta1[:, 1:]**2)+np.sum(theta2[:, 1:]**2)),\n",
    "            np.append(Del1.ravel(), Del2.ravel())]"
   ]
  },
  {
   "cell_type": "code",
   "execution_count": 33,
   "metadata": {
    "collapsed": true
   },
   "outputs": [],
   "source": [
    "epsilon_init = 0.12\n",
    "theta_in1 = np.random.uniform(-epsilon_init, epsilon_init, theta1.shape)\n",
    "theta_in2 = np.random.uniform(-epsilon_init, epsilon_init, theta2.shape)\n",
    "X_ = np.concatenate((np.ones((X.shape[0], 1)), X), 1)"
   ]
  },
  {
   "cell_type": "markdown",
   "metadata": {},
   "source": [
    "# Gradient Checking"
   ]
  },
  {
   "cell_type": "code",
   "execution_count": 26,
   "metadata": {
    "collapsed": true
   },
   "outputs": [],
   "source": [
    "from numpy.linalg import norm\n",
    "\n",
    "\n",
    "def numGrad(cost,\n",
    "            nn_params,\n",
    "            input_layer_size,\n",
    "            hidden_layer_size,\n",
    "            num_labels,\n",
    "            X, y, lamb):\n",
    "    eps = 1e-6\n",
    "    numG = np.zeros(nn_params.shape)\n",
    "    costt = cost(nn_params,\n",
    "                 input_layer_size,\n",
    "                 hidden_layer_size,\n",
    "                 num_labels,\n",
    "                 X, y, lamb)\n",
    "    for i in range(len(nn_params)):\n",
    "        temp = np.zeros(nn_params.shape)\n",
    "        temp[i] = eps\n",
    "        # pdb.set_trace()\n",
    "        params = nn_params+temp\n",
    "        cost2 = cost(params,\n",
    "                     input_layer_size,\n",
    "                     hidden_layer_size,\n",
    "                     num_labels,\n",
    "                     X, y, lamb)[0]\n",
    "        temp[i] = -eps\n",
    "        params = nn_params+temp\n",
    "        cost1 = cost(params,\n",
    "                     input_layer_size,\n",
    "                     hidden_layer_size,\n",
    "                     num_labels,\n",
    "                     X, y, lamb)[0]\n",
    "        numG[i] = cost2-cost1\n",
    "\n",
    "    numG = numG/2/eps\n",
    "    pdb.set_trace()\n",
    "    return norm(numG-costt[1])/norm(numG+costt[1])"
   ]
  },
  {
   "cell_type": "code",
   "execution_count": 32,
   "metadata": {},
   "outputs": [
    {
     "name": "stdout",
     "output_type": "stream",
     "text": [
      "> <ipython-input-26-18ad0927b04d>(36)numGrad()\n",
      "-> return norm(numG-costt[1])/norm(numG+costt[1])\n",
      "(Pdb) c\n"
     ]
    },
    {
     "data": {
      "text/plain": [
       "5.9293170235728872e-10"
      ]
     },
     "execution_count": 32,
     "metadata": {},
     "output_type": "execute_result"
    }
   ],
   "source": [
    "theta_1 = np.random.uniform(-epsilon_init, epsilon_init, (3, 10))\n",
    "theta_2 = np.random.uniform(-epsilon_init, epsilon_init, (10, 4))\n",
    "theta_in1 = np.zeros((3, 10))\n",
    "theta_in2 = np.zeros((10, 4))\n",
    "numGrad(nnCostFunction,\n",
    "        np.append(theta_1.ravel(), theta_2.ravel()),\n",
    "        9, 3, 10, X_[30:50, :10], y[30:50], 1.)"
   ]
  },
  {
   "cell_type": "code",
   "execution_count": null,
   "metadata": {},
   "outputs": [
    {
     "name": "stdout",
     "output_type": "stream",
     "text": [
      "> <ipython-input-36-c40482f540c6>(12)nnCostFunction()\n",
      "-> theta1 = np.reshape(nn_params[:hidden_layer_size * (input_layer_size + 1)],\n",
      "(Pdb) nn_params.shape\n",
      "(70L,)\n"
     ]
    }
   ],
   "source": [
    "minimize(nnCostFunction, np.append(theta_1.ravel(), theta_2.ravel()),         args=(\n",
    "    400, 25, 10, X_, y, 1.), method='BFGS', jac=True,         options={'gtol': 1e-6, 'disp': True})"
   ]
  },
  {
   "cell_type": "code",
   "execution_count": 9,
   "metadata": {},
   "outputs": [
    {
     "data": {
      "text/plain": [
       "[0.38376985909092365,\n",
       " array([  1.67404866e-02,  -2.11248326e-12,   4.38829369e-13, ...,\n",
       "         -8.89348084e-02,  -8.44931218e-02,  -1.17334401e-02])]"
      ]
     },
     "execution_count": 9,
     "metadata": {},
     "output_type": "execute_result"
    }
   ],
   "source": [
    "\n",
    "nnCostFunction(np.append(theta1.ravel(), theta2.ravel()),\n",
    "               400,\n",
    "               25,\n",
    "               10,\n",
    "               X_, y, 1.)"
   ]
  }
 ],
 "metadata": {
  "kernelspec": {
   "display_name": "Python 3",
   "language": "python",
   "name": "python3"
  },
  "language_info": {
   "codemirror_mode": {
    "name": "ipython",
    "version": 3
   },
   "file_extension": ".py",
   "mimetype": "text/x-python",
   "name": "python",
   "nbconvert_exporter": "python",
   "pygments_lexer": "ipython3",
   "version": "3.6.1"
  }
 },
 "nbformat": 4,
 "nbformat_minor": 2
}
