{
 "cells": [
  {
   "cell_type": "code",
   "execution_count": 1,
   "metadata": {
    "collapsed": true
   },
   "outputs": [],
   "source": [
    "import pandas as pd\n",
    "import numpy as np\n",
    "import matplotlib.pyplot as plt\n",
    "import seaborn as sns"
   ]
  },
  {
   "cell_type": "markdown",
   "metadata": {},
   "source": [
    "# 1- Multi-class Classification"
   ]
  },
  {
   "cell_type": "code",
   "execution_count": 6,
   "metadata": {},
   "outputs": [
    {
     "data": {
      "image/png": "[encoded data removed]",
      "text/plain": [
       "<matplotlib.figure.Figure at 0x1baefc156d8>"
      ]
     },
     "metadata": {},
     "output_type": "display_data"
    }
   ],
   "source": [
    "import scipy.io as sio\n",
    "test = sio.loadmat('data1.mat')\n",
    "X = test['X']\n",
    "y = test['y']\n",
    "plt.imshow(X[1000, :].reshape(20, 20))\n",
    "plt.grid('off')\n",
    "_=plt.axis('off')\n",
    "plt.show()"
   ]
  },
  {
   "cell_type": "code",
   "execution_count": 4,
   "metadata": {},
   "outputs": [],
   "source": [
    "def cost_reg(theta, X, Y, lamb):\n",
    "    posX = X[Y == 1, :]\n",
    "    negX = X[Y == 0, :]\n",
    "    m = len(Y)\n",
    "    return (1./m*(np.sum(-np.log(sigmoid(posX.dot(theta[:, np.newaxis]))))\n",
    "                  + np.sum(-np.log(1-sigmoid(negX.dot(theta[:, np.newaxis])))))\n",
    "            + lamb/2/m*np.sum(theta[1:]**2))\n",
    "\n",
    "\n",
    "def grad_reg(theta, X, Y, lamb):\n",
    "    m = len(Y)\n",
    "    grad = 1./m *np.dot(X.T, sigmoid(\n",
    "            X.dot(theta[:, np.newaxis]))-Y[:, np.newaxis]).ravel()\n",
    "    grad[1:] = grad[1:]+lamb/m*(theta[1:])\n",
    "    return grad\n",
    "\n",
    "\n",
    "def sigmoid(x):\n",
    "    return 1 / (1 + np.exp(-x))"
   ]
  },
  {
   "cell_type": "code",
   "execution_count": 5,
   "metadata": {},
   "outputs": [
    {
     "name": "stdout",
     "output_type": "stream",
     "text": [
      "Optimization terminated successfully.\n",
      "         Current function value: 0.013115\n",
      "         Iterations: 418\n",
      "         Function evaluations: 419\n",
      "         Gradient evaluations: 419\n",
      "Optimization terminated successfully.\n",
      "         Current function value: 0.050802\n",
      "         Iterations: 609\n",
      "         Function evaluations: 610\n",
      "         Gradient evaluations: 610\n",
      "Optimization terminated successfully.\n",
      "         Current function value: 0.057602\n",
      "         Iterations: 607\n",
      "         Function evaluations: 608\n",
      "         Gradient evaluations: 608\n",
      "Optimization terminated successfully.\n",
      "         Current function value: 0.033065\n",
      "         Iterations: 533\n",
      "         Function evaluations: 534\n",
      "         Gradient evaluations: 534\n",
      "Optimization terminated successfully.\n",
      "         Current function value: 0.054456\n",
      "         Iterations: 615\n",
      "         Function evaluations: 616\n",
      "         Gradient evaluations: 616\n",
      "Optimization terminated successfully.\n",
      "         Current function value: 0.018256\n",
      "         Iterations: 500\n",
      "         Function evaluations: 501\n",
      "         Gradient evaluations: 501\n",
      "Optimization terminated successfully.\n",
      "         Current function value: 0.030642\n",
      "         Iterations: 500\n",
      "         Function evaluations: 501\n",
      "         Gradient evaluations: 501\n",
      "Optimization terminated successfully.\n",
      "         Current function value: 0.078449\n",
      "         Iterations: 649\n",
      "         Function evaluations: 650\n",
      "         Gradient evaluations: 650\n",
      "Optimization terminated successfully.\n",
      "         Current function value: 0.071185\n",
      "         Iterations: 617\n",
      "         Function evaluations: 618\n",
      "         Gradient evaluations: 618\n",
      "Optimization terminated successfully.\n",
      "         Current function value: 0.008568\n",
      "         Iterations: 405\n",
      "         Function evaluations: 406\n",
      "         Gradient evaluations: 406\n"
     ]
    }
   ],
   "source": [
    "from scipy.optimize import minimize\n",
    "X_ = np.concatenate((np.ones((X.shape[0], 1)), X), 1)\n",
    "K = len(np.unique(y))\n",
    "all_theta = np.zeros((K, X_.shape[1]))\n",
    "for i in range(K):\n",
    "    Y = ((y == i+1)*1).ravel()\n",
    "    theta = np.zeros((X_.shape[1],))\n",
    "    result = minimize(cost_reg, theta, args=(X_, Y, .1), method='BFGS',\n",
    "                      jac=grad_reg, options={'gtol': 1e-6, 'disp': True})\n",
    "    all_theta[i, :] = result.x"
   ]
  },
  {
   "cell_type": "code",
   "execution_count": 7,
   "metadata": {
    "collapsed": true
   },
   "outputs": [],
   "source": [
    "pred = np.argmax(X_.dot(all_theta.T), 1)+1"
   ]
  },
  {
   "cell_type": "code",
   "execution_count": 8,
   "metadata": {},
   "outputs": [
    {
     "data": {
      "text/plain": [
       "0.9646"
      ]
     },
     "execution_count": 8,
     "metadata": {},
     "output_type": "execute_result"
    }
   ],
   "source": [
    "acc = np.mean(y.ravel() == pred)\n",
    "acc"
   ]
  },
  {
   "cell_type": "markdown",
   "metadata": {},
   "source": [
    "# 2- Neural Networks"
   ]
  },
  {
   "cell_type": "code",
   "execution_count": 9,
   "metadata": {},
   "outputs": [
    {
     "data": {
      "text/plain": [
       "0.9752"
      ]
     },
     "execution_count": 9,
     "metadata": {},
     "output_type": "execute_result"
    }
   ],
   "source": [
    "weights = sio.loadmat('data2.mat')\n",
    "theta1 = weights['Theta1']\n",
    "theta2 = weights['Theta2']\n",
    "z2 = theta1.dot(X_.T)\n",
    "a2 = sigmoid(z2)\n",
    "a2 = np.concatenate((np.ones((1, a2.shape[1])), a2), 0)\n",
    "z3 = theta2.dot(a2)\n",
    "a3 = sigmoid(z3)\n",
    "pred = np.argmax(a3, 0)+1\n",
    "acc = np.mean(y.ravel() == pred)\n",
    "acc"
   ]
  },
  {
   "cell_type": "code",
   "execution_count": null,
   "metadata": {
    "collapsed": true
   },
   "outputs": [],
   "source": []
  }
 ],
 "metadata": {
  "kernelspec": {
   "display_name": "Python 3",
   "language": "python",
   "name": "python3"
  },
  "language_info": {
   "codemirror_mode": {
    "name": "ipython",
    "version": 3
   },
   "file_extension": ".py",
   "mimetype": "text/x-python",
   "name": "python",
   "nbconvert_exporter": "python",
   "pygments_lexer": "ipython3",
   "version": "3.6.1"
  }
 },
 "nbformat": 4,
 "nbformat_minor": 2
}
